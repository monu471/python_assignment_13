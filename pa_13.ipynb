{
 "cells": [
  {
   "cell_type": "markdown",
   "id": "220f0dec",
   "metadata": {},
   "source": [
    "Q1. Can you create a programme or function that employs both positive and negative indexing? Is\n",
    "there any repercussion if you do so?"
   ]
  },
  {
   "cell_type": "code",
   "execution_count": 3,
   "id": "99f4d0a7",
   "metadata": {},
   "outputs": [],
   "source": [
    "def print_indexes(seq):\n",
    "    for i in range(-len(seq), len(seq)):\n",
    "        print(seq[i])\n"
   ]
  },
  {
   "cell_type": "markdown",
   "id": "9eb7eb00",
   "metadata": {},
   "source": [
    "There are no major repercussions to using both positive and negative indexing in a program or function, as long as it is used correctly and appropriately for the specific task at hand. However, it is important to keep in mind that negative indexing can sometimes be confusing or less intuitive for readers of the code who are not familiar with it."
   ]
  },
  {
   "cell_type": "markdown",
   "id": "1bb4a1f6",
   "metadata": {},
   "source": [
    "Q2. What is the most effective way of starting with 1,000 elements in a Python list? Assume that all\n",
    "elements should be set to the same value."
   ]
  },
  {
   "cell_type": "code",
   "execution_count": 6,
   "id": "bcfcbf16",
   "metadata": {},
   "outputs": [],
   "source": [
    "# List comprehension is a concise and efficient way to create a list in Python.\n",
    "my_list = [0 for i in range(1000)]\n"
   ]
  },
  {
   "cell_type": "markdown",
   "id": "e4075b8c",
   "metadata": {},
   "source": [
    "Q3. How do you slice a list to get any other part while missing the rest? (For example, suppose you\n",
    "want to make a new list with the elements first, third, fifth, seventh, and so on.)"
   ]
  },
  {
   "cell_type": "code",
   "execution_count": 7,
   "id": "fd14c0e4",
   "metadata": {},
   "outputs": [],
   "source": [
    "def alternate_list(l:list):\n",
    "    new_list = l[::2]\n",
    "    return new_list"
   ]
  },
  {
   "cell_type": "code",
   "execution_count": 8,
   "id": "89946b44",
   "metadata": {},
   "outputs": [
    {
     "data": {
      "text/plain": [
       "[4, 6, 8]"
      ]
     },
     "execution_count": 8,
     "metadata": {},
     "output_type": "execute_result"
    }
   ],
   "source": [
    "alternate_list([4,5,6,7,8,9])"
   ]
  },
  {
   "cell_type": "markdown",
   "id": "162bbf00",
   "metadata": {},
   "source": [
    "Q4. Explain the distinctions between indexing and slicing."
   ]
  },
  {
   "cell_type": "markdown",
   "id": "ff18f717",
   "metadata": {},
   "source": [
    "indexing :: means to take get single value form a particular location in a iterator\n",
    "\n",
    "slicing :: used to get wide range of values form a itrator"
   ]
  },
  {
   "cell_type": "markdown",
   "id": "38cfa599",
   "metadata": {},
   "source": [
    "Q5. What happens if one of the slicing expression indexes is out of range?"
   ]
  },
  {
   "cell_type": "markdown",
   "id": "d200f406",
   "metadata": {},
   "source": [
    "If one of the slicing expression's indexes is out of range, i.e., it is greater than or equal to the length of the sequence, Python will not raise an error but instead will simply return an empty sequence (i.e., a sequence with no elements"
   ]
  },
  {
   "cell_type": "code",
   "execution_count": 13,
   "id": "2b38bac1",
   "metadata": {},
   "outputs": [
    {
     "name": "stdout",
     "output_type": "stream",
     "text": [
      "[]\n"
     ]
    }
   ],
   "source": [
    "my_list = [1, 2, 3, 4, 5]\n",
    "new_list = my_list[6:10]  \n",
    "print(new_list)  \n"
   ]
  },
  {
   "cell_type": "markdown",
   "id": "d124b9ef",
   "metadata": {},
   "source": [
    "Q6. If you pass a list to a function, and if you want the function to be able to change the values of the\n",
    "list—so that the list is different after the function returns—what action should you avoid?"
   ]
  },
  {
   "cell_type": "markdown",
   "id": "c81822af",
   "metadata": {},
   "source": [
    "\n",
    "If you want a function to be able to change the values of a list that is passed as an argument, you should avoid creating a new list with the same name as the original list inside the function. This is because creating a new list with the same name inside the function will make the function treat the new list as a local variable, which is different from the original list that was passed as an argument. Any changes made to the new list inside the function will not affect the original list outside the function."
   ]
  },
  {
   "cell_type": "code",
   "execution_count": 14,
   "id": "217be1bb",
   "metadata": {},
   "outputs": [],
   "source": [
    "def change_list(lis):\n",
    "    lis = [1,2,3]\n",
    "    print(len(lis))"
   ]
  },
  {
   "cell_type": "code",
   "execution_count": 15,
   "id": "26f35244",
   "metadata": {},
   "outputs": [
    {
     "name": "stdout",
     "output_type": "stream",
     "text": [
      "3\n"
     ]
    }
   ],
   "source": [
    "change_list([1,2,3,4,5,6,7,8,9])\n",
    "### becaues first the inside list will chage"
   ]
  },
  {
   "cell_type": "markdown",
   "id": "c4404fe4",
   "metadata": {},
   "source": [
    "Q7. What is the concept of an unbalanced matrix?"
   ]
  },
  {
   "cell_type": "markdown",
   "id": "31535ff5",
   "metadata": {},
   "source": [
    "In mathematics, an unbalanced matrix is a matrix that has a different number of rows than columns, or vice versa. In other words, an unbalanced matrix is a matrix that is not a square matrix.\n",
    "\n",
    "A square matrix has the same number of rows and columns, and its dimensions are often denoted as `n x n`, where `n` is the number of rows (or columns). In contrast, an unbalanced matrix may be denoted as `m x n`, where `m` is the number of rows and `n` is the number of columns.\n",
    "\n",
    "An unbalanced matrix may have certain limitations compared to a square matrix. For example, some operations that are defined only for square matrices, such as taking the determinant or finding the inverse, may not be defined for an unbalanced matrix. However, there are many applications where an unbalanced matrix is useful, such as in representing data sets with varying numbers of features or in solving systems of equations with more equations than unknowns or vice versa."
   ]
  },
  {
   "cell_type": "markdown",
   "id": "04fc4d02",
   "metadata": {},
   "source": [
    "Q8. Why is it necessary to use either list comprehension or a loop to create arbitrarily large matrices?"
   ]
  },
  {
   "cell_type": "markdown",
   "id": "44762340",
   "metadata": {},
   "source": [
    "It is necessary to use either list comprehension or a loop to create arbitrarily large matrices in Python because Python does not have a built-in data structure for matrices. Instead, matrices are often represented as nested lists of numbers, where each inner list represents a row of the matrix."
   ]
  },
  {
   "cell_type": "code",
   "execution_count": null,
   "id": "9603700f",
   "metadata": {},
   "outputs": [],
   "source": []
  }
 ],
 "metadata": {
  "kernelspec": {
   "display_name": "Python 3 (ipykernel)",
   "language": "python",
   "name": "python3"
  },
  "language_info": {
   "codemirror_mode": {
    "name": "ipython",
    "version": 3
   },
   "file_extension": ".py",
   "mimetype": "text/x-python",
   "name": "python",
   "nbconvert_exporter": "python",
   "pygments_lexer": "ipython3",
   "version": "3.10.9"
  }
 },
 "nbformat": 4,
 "nbformat_minor": 5
}
